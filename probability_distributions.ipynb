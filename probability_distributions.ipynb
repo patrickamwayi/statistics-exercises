{
 "cells": [
  {
   "cell_type": "code",
   "execution_count": 132,
   "id": "2d456ba4",
   "metadata": {},
   "outputs": [],
   "source": [
    "# pyplot for plotting\n",
    "import matplotlib.pyplot as plt\n",
    "# numpy for vectorized array operations\n",
    "import numpy as np\n",
    "# pandas for proper tabular manipulation\n",
    "import pandas as pd\n",
    "# scipy stats for our subversions\n",
    "from scipy import stats\n",
    "# import viz # curriculum viz example code\n",
    "np.random.seed(123)\n",
    "\n",
    "from env import host, username, password\n",
    "\n",
    "# hint for exercises:\n",
    "# you can feed more than one value into a cdf or a ppf\n",
    "# use a list format[low_val, high_val]\n",
    "# ex: some_distribution.cdf([4,7])\n",
    "\n"
   ]
  },
  {
   "cell_type": "code",
   "execution_count": 134,
   "id": "fab29d2b",
   "metadata": {},
   "outputs": [
    {
     "data": {
      "image/png": "[encoded data removed]",
      "text/plain": [
       "<Figure size 432x288 with 1 Axes>"
      ]
     },
     "metadata": {
      "needs_background": "light"
     },
     "output_type": "display_data"
    }
   ],
   "source": [
    "# Exercises\n",
    "# For the following problems, use python to simulate the problem and calculate an experimental probability, \n",
    "# then compare that to the theoretical probability.\n",
    "\n",
    "# 1. A bank found that the average number of cars waiting during the noon hour at a drive-up window follows\n",
    "#  a Poisson distribution with a mean of 2 cars. Make a chart of this distribution and answer these \n",
    "# questions concerning the probability of cars waiting at the drive-up window.\n",
    "\n",
    "\n",
    "cars = 50\n",
    "cars = stats.poisson(2)\n",
    "x = range(10)\n",
    "y = cars.pmf(x)\n",
    "plt.bar(x, y, width=1.5)\n",
    "plt.title('Cars with poisson mean of 2')\n",
    "plt.show()\n"
   ]
  },
  {
   "cell_type": "code",
   "execution_count": 135,
   "id": "14713f4d",
   "metadata": {},
   "outputs": [
    {
     "data": {
      "text/plain": [
       "2.410937309954894e-19"
      ]
     },
     "execution_count": 135,
     "metadata": {},
     "output_type": "execute_result"
    }
   ],
   "source": [
    "# . What is the probability that no cars drive up in the noon hour?\n",
    "\n",
    "stats.poisson(50).pmf(2)"
   ]
  },
  {
   "cell_type": "code",
   "execution_count": 136,
   "id": "04bb382b",
   "metadata": {},
   "outputs": [
    {
     "data": {
      "text/plain": [
       "0.14287653950145296"
      ]
     },
     "execution_count": 136,
     "metadata": {},
     "output_type": "execute_result"
    }
   ],
   "source": [
    "#. What is the probability that 3 or more cars come through the drive through?\n",
    "\n",
    "stats.poisson(μ).sf(3)"
   ]
  },
  {
   "cell_type": "code",
   "execution_count": 137,
   "id": "161ec5c2",
   "metadata": {},
   "outputs": [
    {
     "data": {
      "text/plain": [
       "0.8646647167633873"
      ]
     },
     "execution_count": 137,
     "metadata": {},
     "output_type": "execute_result"
    }
   ],
   "source": [
    "#. How likely is it that the drive through gets at least 1 car?\n",
    "\n",
    "stats.poisson(μ).sf(0)"
   ]
  },
  {
   "cell_type": "code",
   "execution_count": 144,
   "id": "0aff86f9",
   "metadata": {},
   "outputs": [
    {
     "data": {
      "text/plain": [
       "3.4934560880854417"
      ]
     },
     "execution_count": 144,
     "metadata": {},
     "output_type": "execute_result"
    },
    {
     "data": {
      "image/png": "[encoded data removed]",
      "text/plain": [
       "<Figure size 432x288 with 1 Axes>"
      ]
     },
     "metadata": {
      "needs_background": "light"
     },
     "output_type": "display_data"
    }
   ],
   "source": [
    "# 2. Grades of State University graduates are normally distributed with a mean of 3.0 and\n",
    "# a standard deviation of .3. Calculate the following:\n",
    "\n",
    "grades_dist = stats.norm(3.0, 0.3)\n",
    "x = np.arange(2.0, 4.0, 0.01)\n",
    "y = grades_dist.pdf(x)\n",
    "\n",
    "plt.plot(x, y);\n",
    "\n",
    "#. What grade point average is required to be in the top 5% of the graduating class?\n",
    "\n",
    "grades_dist.isf(0.05)"
   ]
  },
  {
   "cell_type": "code",
   "execution_count": 119,
   "id": "6fad9920",
   "metadata": {},
   "outputs": [
    {
     "data": {
      "text/plain": [
       "2.689069983151863"
      ]
     },
     "execution_count": 119,
     "metadata": {},
     "output_type": "execute_result"
    }
   ],
   "source": [
    "#. What GPA constitutes the bottom 15% of the class?\n",
    "\n",
    "grades_dist.ppf(0.15)\n"
   ]
  },
  {
   "cell_type": "code",
   "execution_count": null,
   "id": "fd018da1",
   "metadata": {},
   "outputs": [],
   "source": [
    "#. An eccentric alumnus left scholarship money for students in the third decile from the bottom of their class.\n",
    "# Determine the range of the third decile. Would a student with a 2.8 grade point average qualify for \n",
    "# this scholarship?"
   ]
  },
  {
   "cell_type": "code",
   "execution_count": 120,
   "id": "7ea677ee",
   "metadata": {},
   "outputs": [
    {
     "data": {
      "text/plain": [
       "0.9522096477271853"
      ]
     },
     "execution_count": 120,
     "metadata": {},
     "output_type": "execute_result"
    }
   ],
   "source": [
    "# If I have a GPA of 3.5, what percentile am I in?\n",
    "grades_dist.cdf(3.5)"
   ]
  },
  {
   "cell_type": "code",
   "execution_count": 55,
   "id": "7b44b5f3",
   "metadata": {},
   "outputs": [
    {
     "data": {
      "text/plain": [
       "0.11781530585978471"
      ]
     },
     "execution_count": 55,
     "metadata": {},
     "output_type": "execute_result"
    }
   ],
   "source": [
    "# 3. A marketing website has an average click-through rate of 2%. One day they observe 4326 visitors and\n",
    "# 97 click-throughs. How likely is it that this many people or more click through?\n",
    "\n",
    "stats.binom(4326, 0.02).sf(97)\n"
   ]
  },
  {
   "cell_type": "code",
   "execution_count": 56,
   "id": "7c256b8b",
   "metadata": {},
   "outputs": [
    {
     "data": {
      "text/plain": [
       "1.0812218170244006e-05"
      ]
     },
     "execution_count": 56,
     "metadata": {},
     "output_type": "execute_result"
    }
   ],
   "source": [
    "# 4. You are working on some statistics homework consisting of 100 questions where all of the answers are \n",
    "# a probability rounded to the hundreths place. Looking to save time, you put down random probabilities\n",
    "# as the answer to each question.\n",
    "\n",
    "# .What is the probability that at least one of your first 60 answers is correct?\n",
    "\n",
    "questions = 100\n",
    "stats.poisson(questions).cdf(60)"
   ]
  },
  {
   "cell_type": "code",
   "execution_count": 59,
   "id": "2911baf7",
   "metadata": {},
   "outputs": [
    {
     "data": {
      "text/plain": [
       "0.300868680133005"
      ]
     },
     "execution_count": 59,
     "metadata": {},
     "output_type": "execute_result"
    }
   ],
   "source": [
    "# 5. The codeup staff tends to get upset when the student break area is not cleaned up. \n",
    "# Suppose that there's a 3% chance that any one student cleans the break area when they visit it, and,\n",
    "# on any given day, about 90% of the 3 active cohorts of 22 students visit the break area.\n",
    "\n",
    "# How likely is it that the break area gets cleaned up each day? \n",
    "\n",
    "daily_visits = (0.9 * (3 *22) )\n",
    "each_day = stats.binom(daily_visits, 0.03).pmf(1)\n",
    "each_day\n"
   ]
  },
  {
   "cell_type": "code",
   "execution_count": 60,
   "id": "bfd8fa64",
   "metadata": {},
   "outputs": [
    {
     "data": {
      "text/plain": [
       "0.2717123338108376"
      ]
     },
     "execution_count": 60,
     "metadata": {},
     "output_type": "execute_result"
    }
   ],
   "source": [
    "# How likely is it that it goes two dayswithout getting cleaned up? All week?\n",
    "\n",
    "two_days= stats.binom(daily_visits, 0.03).pmf(2)\n",
    "two_days"
   ]
  },
  {
   "cell_type": "code",
   "execution_count": 62,
   "id": "dfa9c4f4",
   "metadata": {},
   "outputs": [
    {
     "data": {
      "text/plain": [
       "17.023469250588246"
      ]
     },
     "execution_count": 62,
     "metadata": {},
     "output_type": "execute_result"
    }
   ],
   "source": [
    "# 6. You want to get lunch at La Panaderia, but notice that the line is usually very long at lunchtime. \n",
    "# After several weeks of careful observation, you notice that the average number of people in line when\n",
    "# your lunch break starts is normally distributed with a mean of 15 and standard deviation of 3. \n",
    "# If it takes 2 minutes for each person to order, and 10 minutes from ordering to getting your food, \n",
    "# what is the likelihood that you have at least 15 minutes left to eat your food before you have to go back to class?\n",
    "#Assume you have one hour for lunch, and ignore travel time to and from La Panaderia.\n",
    "\n",
    "number_of_people_mean = 15\n",
    "number_of_people_std = 3 \n",
    "# mean time= 15 * 2 minutes\n",
    "lunch_time = stats.norm (number_of_people_mean, number_of_people_std).isf(15/60)\n",
    "lunch_time\n"
   ]
  },
  {
   "cell_type": "code",
   "execution_count": 181,
   "id": "48bd5a5a",
   "metadata": {},
   "outputs": [
    {
     "data": {
      "text/html": [
       "<div>\n",
       "<style scoped>\n",
       "    .dataframe tbody tr th:only-of-type {\n",
       "        vertical-align: middle;\n",
       "    }\n",
       "\n",
       "    .dataframe tbody tr th {\n",
       "        vertical-align: top;\n",
       "    }\n",
       "\n",
       "    .dataframe thead th {\n",
       "        text-align: right;\n",
       "    }\n",
       "</style>\n",
       "<table border=\"1\" class=\"dataframe\">\n",
       "  <thead>\n",
       "    <tr style=\"text-align: right;\">\n",
       "      <th></th>\n",
       "      <th>emp_no</th>\n",
       "      <th>salary</th>\n",
       "      <th>from_date</th>\n",
       "      <th>to_date</th>\n",
       "    </tr>\n",
       "  </thead>\n",
       "  <tbody>\n",
       "    <tr>\n",
       "      <th>0</th>\n",
       "      <td>10001</td>\n",
       "      <td>88958</td>\n",
       "      <td>2002-06-22</td>\n",
       "      <td>9999-01-01</td>\n",
       "    </tr>\n",
       "    <tr>\n",
       "      <th>1</th>\n",
       "      <td>10002</td>\n",
       "      <td>72527</td>\n",
       "      <td>2001-08-02</td>\n",
       "      <td>9999-01-01</td>\n",
       "    </tr>\n",
       "    <tr>\n",
       "      <th>2</th>\n",
       "      <td>10003</td>\n",
       "      <td>43311</td>\n",
       "      <td>2001-12-01</td>\n",
       "      <td>9999-01-01</td>\n",
       "    </tr>\n",
       "    <tr>\n",
       "      <th>3</th>\n",
       "      <td>10004</td>\n",
       "      <td>74057</td>\n",
       "      <td>2001-11-27</td>\n",
       "      <td>9999-01-01</td>\n",
       "    </tr>\n",
       "    <tr>\n",
       "      <th>4</th>\n",
       "      <td>10005</td>\n",
       "      <td>94692</td>\n",
       "      <td>2001-09-09</td>\n",
       "      <td>9999-01-01</td>\n",
       "    </tr>\n",
       "  </tbody>\n",
       "</table>\n",
       "</div>"
      ],
      "text/plain": [
       "   emp_no  salary   from_date     to_date\n",
       "0   10001   88958  2002-06-22  9999-01-01\n",
       "1   10002   72527  2001-08-02  9999-01-01\n",
       "2   10003   43311  2001-12-01  9999-01-01\n",
       "3   10004   74057  2001-11-27  9999-01-01\n",
       "4   10005   94692  2001-09-09  9999-01-01"
      ]
     },
     "execution_count": 181,
     "metadata": {},
     "output_type": "execute_result"
    }
   ],
   "source": [
    "# 7. Connect to the employees database and find the average salary of current employees, along with the standard \n",
    "# deviation.For the following questions, calculate the answer based on modeling the employees salaries with a\n",
    "# normal distribution defined by the calculated mean and standard deviation then compare this answer to the \n",
    "# actual values present in the salaries dataset.\n",
    "\n",
    "\n",
    "import env\n",
    "url = f'mysql+pymysql://{env.username}:{env.password}@{env.host}/employees'\n",
    "    \n",
    "salaries = pd.read_sql('SELECT * FROM salaries WHERE salaries.to_date > NOW()', url)\n",
    "salaries.head()\n"
   ]
  },
  {
   "cell_type": "code",
   "execution_count": 190,
   "id": "f36b4b35",
   "metadata": {},
   "outputs": [],
   "source": [
    "avg_salary = salaries.salary.mean()\n",
    "std_dev = salaries.salary.std()\n",
    "\n",
    "salary_dist = stats.norm(avg_salary, std_dev)\n"
   ]
  },
  {
   "cell_type": "code",
   "execution_count": 194,
   "id": "9aa125d9",
   "metadata": {},
   "outputs": [
    {
     "data": {
      "text/plain": [
       "0.2705727041028802"
      ]
     },
     "execution_count": 194,
     "metadata": {},
     "output_type": "execute_result"
    }
   ],
   "source": [
    "# (a)What percent of employees earn less than 60,0\n",
    "\n",
    "salary_dist.cdf(60_000)\n"
   ]
  },
  {
   "cell_type": "code",
   "execution_count": 197,
   "id": "f6b34da6",
   "metadata": {},
   "outputs": [
    {
     "data": {
      "text/plain": [
       "0.09208819199804053"
      ]
     },
     "execution_count": 197,
     "metadata": {},
     "output_type": "execute_result"
    }
   ],
   "source": [
    "# (b) What percent of employees earn more than 95,000?\n",
    "\n",
    "salary_dist.sf(95_000)"
   ]
  },
  {
   "cell_type": "code",
   "execution_count": 198,
   "id": "b6fddc51",
   "metadata": {},
   "outputs": [
    {
     "data": {
      "text/plain": [
       "0.3350605685446666"
      ]
     },
     "execution_count": 198,
     "metadata": {},
     "output_type": "execute_result"
    }
   ],
   "source": [
    "# (c) What percent of employees earn between 65,000 and 80,000?\n",
    "\n",
    "salary_dist.cdf(80_000) - salary_dist.cdf(65_000)"
   ]
  },
  {
   "cell_type": "code",
   "execution_count": 199,
   "id": "28ffe37f",
   "metadata": {},
   "outputs": [
    {
     "data": {
      "text/plain": [
       "100484.64454102777"
      ]
     },
     "execution_count": 199,
     "metadata": {},
     "output_type": "execute_result"
    }
   ],
   "source": [
    "# (d) What do the top 5% of employees make?\n",
    "\n",
    "salary_dist.isf(.05)"
   ]
  },
  {
   "cell_type": "code",
   "execution_count": null,
   "id": "d94831ed",
   "metadata": {},
   "outputs": [],
   "source": []
  }
 ],
 "metadata": {
  "kernelspec": {
   "display_name": "Python 3 (ipykernel)",
   "language": "python",
   "name": "python3"
  },
  "language_info": {
   "codemirror_mode": {
    "name": "ipython",
    "version": 3
   },
   "file_extension": ".py",
   "mimetype": "text/x-python",
   "name": "python",
   "nbconvert_exporter": "python",
   "pygments_lexer": "ipython3",
   "version": "3.9.12"
  }
 },
 "nbformat": 4,
 "nbformat_minor": 5
}
