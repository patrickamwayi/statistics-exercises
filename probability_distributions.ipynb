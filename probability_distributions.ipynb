{
 "cells": [
  {
   "cell_type": "code",
   "execution_count": 43,
   "id": "23d8b061",
   "metadata": {},
   "outputs": [
    {
     "data": {
      "image/png": "[encoded data removed]",
      "text/plain": [
       "<Figure size 432x288 with 1 Axes>"
      ]
     },
     "metadata": {
      "needs_background": "light"
     },
     "output_type": "display_data"
    },
    {
     "data": {
      "text/plain": [
       "2.410937309954894e-19"
      ]
     },
     "execution_count": 43,
     "metadata": {},
     "output_type": "execute_result"
    }
   ],
   "source": [
    "# pyplot for plotting\n",
    "import matplotlib.pyplot as plt\n",
    "# numpy for vectorized array operations\n",
    "import numpy as np\n",
    "# pandas for proper tabular manipulation\n",
    "import pandas as pd\n",
    "# scipy stats for our subversions\n",
    "from scipy import stats\n",
    "# import viz # curriculum viz example code\n",
    "np.random.seed(123)\n",
    "\n",
    "\n",
    "# hint for exercises:\n",
    "# you can feed more than one value into a cdf or a ppf\n",
    "# use a list format[low_val, high_val]\n",
    "# ex: some_distribution.cdf([4,7])\n",
    "\n",
    "# Exercises\n",
    "# For the following problems, use python to simulate the problem and calculate an experimental probability, \n",
    "# then compare that to the theoretical probability.\n",
    "\n",
    "# 1. A bank found that the average number of cars waiting during the noon hour at a drive-up window follows\n",
    "#  a Poisson distribution with a mean of 2 cars. Make a chart of this distribution and answer these \n",
    "# questions concerning the probability of cars waiting at the drive-up window.\n",
    "\n",
    "\n",
    "cars = 50 \n",
    "cars = stats.poisson(2)\n",
    "y=np.arange(0,10)\n",
    "x = cars.pmf(y) \n",
    "    \n",
    "plt.hist(x,y)\n",
    "plt.ylabel = 'frequency'\n",
    "plt.title('Cars with poisson mean of 2')\n",
    "plt.show()\n",
    "                                        \n",
    "stats.poisson(50).pmf(2)\n",
    "\n",
    "\n",
    "\n",
    "\n",
    "# . What is the probability that no cars drive up in the noon hour?\n"
   ]
  },
  {
   "cell_type": "code",
   "execution_count": null,
   "id": "bfd096dd",
   "metadata": {},
   "outputs": [],
   "source": []
  },
  {
   "cell_type": "code",
   "execution_count": 81,
   "id": "58496818",
   "metadata": {},
   "outputs": [],
   "source": [
    "n_sim = 1_000\n",
    "μ = 2\n",
    "dist = stats.poisson(μ)\n",
    "dist = dist.rvs(n_sim)"
   ]
  },
  {
   "cell_type": "code",
   "execution_count": 83,
   "id": "38c1709d",
   "metadata": {},
   "outputs": [
    {
     "name": "stdout",
     "output_type": "stream",
     "text": [
      "0.1353352832366127\n"
     ]
    }
   ],
   "source": [
    "print(stats.poisson(μ).pmf(0))"
   ]
  },
  {
   "cell_type": "code",
   "execution_count": 84,
   "id": "5011caf5",
   "metadata": {},
   "outputs": [
    {
     "name": "stdout",
     "output_type": "stream",
     "text": [
      "0.14287653950145296\n"
     ]
    }
   ],
   "source": [
    "#. What is the probability that 3 or more cars come through the drive through?\n",
    "print(stats.poisson(μ).sf(3))"
   ]
  },
  {
   "cell_type": "code",
   "execution_count": null,
   "id": "c44e50f8",
   "metadata": {},
   "outputs": [],
   "source": [
    "#. How likely is it that the drive through gets at least 1 car?\n",
    "print(stats.poisson(μ).sf(0))"
   ]
  },
  {
   "cell_type": "code",
   "execution_count": null,
   "id": "c9362e6a",
   "metadata": {},
   "outputs": [],
   "source": []
  },
  {
   "cell_type": "code",
   "execution_count": 44,
   "id": "4f861299",
   "metadata": {},
   "outputs": [
    {
     "data": {
      "text/plain": [
       "4.0182288499248346e-18"
      ]
     },
     "execution_count": 44,
     "metadata": {},
     "output_type": "execute_result"
    }
   ],
   "source": [
    "#. What is the probability that 3 or more cars come through the drive through?\n",
    "\n",
    "stats.poisson(50).pmf(3)"
   ]
  },
  {
   "cell_type": "code",
   "execution_count": 45,
   "id": "081064e1",
   "metadata": {},
   "outputs": [
    {
     "data": {
      "text/plain": [
       "9.643749239819592e-21"
      ]
     },
     "execution_count": 45,
     "metadata": {},
     "output_type": "execute_result"
    }
   ],
   "source": [
    "#. How likely is it that the drive through gets at least 1 car?\n",
    "\n",
    "stats.poisson(50).pmf(1)"
   ]
  },
  {
   "cell_type": "code",
   "execution_count": 118,
   "id": "504b64fd",
   "metadata": {},
   "outputs": [
    {
     "data": {
      "text/plain": [
       "3.4934560880854417"
      ]
     },
     "execution_count": 118,
     "metadata": {},
     "output_type": "execute_result"
    }
   ],
   "source": [
    "# 2. Grades of State University graduates are normally distributed with a mean of 3.0 and\n",
    "# a standard deviation of .3. Calculate the following:\n",
    "\n",
    "grades_dist = stats.norm(3.0, 0.3)\n",
    "#. What grade point average is required to be in the top 5% of the graduating class?\n",
    "\n",
    "grades_dist.isf(0.05)"
   ]
  },
  {
   "cell_type": "code",
   "execution_count": 119,
   "id": "9a0c1427",
   "metadata": {},
   "outputs": [
    {
     "data": {
      "text/plain": [
       "2.689069983151863"
      ]
     },
     "execution_count": 119,
     "metadata": {},
     "output_type": "execute_result"
    }
   ],
   "source": [
    "#. What GPA constitutes the bottom 15% of the class?\n",
    "\n",
    "grades_dist.ppf(0.15)\n"
   ]
  },
  {
   "cell_type": "code",
   "execution_count": null,
   "id": "2f59f2da",
   "metadata": {},
   "outputs": [],
   "source": [
    "#. An eccentric alumnus left scholarship money for students in the third decile from the bottom of their class.\n",
    "# Determine the range of the third decile. Would a student with a 2.8 grade point average qualify for \n",
    "# this scholarship?"
   ]
  },
  {
   "cell_type": "code",
   "execution_count": 120,
   "id": "c50e5060",
   "metadata": {},
   "outputs": [
    {
     "data": {
      "text/plain": [
       "0.9522096477271853"
      ]
     },
     "execution_count": 120,
     "metadata": {},
     "output_type": "execute_result"
    }
   ],
   "source": [
    "# If I have a GPA of 3.5, what percentile am I in?\n",
    "grades_dist.cdf(3.5)"
   ]
  },
  {
   "cell_type": "code",
   "execution_count": 55,
   "id": "cf5e38a7",
   "metadata": {},
   "outputs": [
    {
     "data": {
      "text/plain": [
       "0.11781530585978471"
      ]
     },
     "execution_count": 55,
     "metadata": {},
     "output_type": "execute_result"
    }
   ],
   "source": [
    "# 3. A marketing website has an average click-through rate of 2%. One day they observe 4326 visitors and\n",
    "# 97 click-throughs. How likely is it that this many people or more click through?\n",
    "\n",
    "stats.binom(4326, 0.02).sf(97)\n"
   ]
  },
  {
   "cell_type": "code",
   "execution_count": 56,
   "id": "6ecd7ee9",
   "metadata": {},
   "outputs": [
    {
     "data": {
      "text/plain": [
       "1.0812218170244006e-05"
      ]
     },
     "execution_count": 56,
     "metadata": {},
     "output_type": "execute_result"
    }
   ],
   "source": [
    "# 4. You are working on some statistics homework consisting of 100 questions where all of the answers are \n",
    "# a probability rounded to the hundreths place. Looking to save time, you put down random probabilities\n",
    "# as the answer to each question.\n",
    "\n",
    "# .What is the probability that at least one of your first 60 answers is correct?\n",
    "\n",
    "questions = 100\n",
    "stats.poisson(questions).cdf(60)"
   ]
  },
  {
   "cell_type": "code",
   "execution_count": 59,
   "id": "6a1f0c30",
   "metadata": {},
   "outputs": [
    {
     "data": {
      "text/plain": [
       "0.300868680133005"
      ]
     },
     "execution_count": 59,
     "metadata": {},
     "output_type": "execute_result"
    }
   ],
   "source": [
    "# 5. The codeup staff tends to get upset when the student break area is not cleaned up. \n",
    "# Suppose that there's a 3% chance that any one student cleans the break area when they visit it, and,\n",
    "# on any given day, about 90% of the 3 active cohorts of 22 students visit the break area.\n",
    "\n",
    "# How likely is it that the break area gets cleaned up each day? \n",
    "\n",
    "daily_visits = (0.9 * (3 *22) )\n",
    "each_day = stats.binom(daily_visits, 0.03).pmf(1)\n",
    "each_day\n"
   ]
  },
  {
   "cell_type": "code",
   "execution_count": 60,
   "id": "1cf511f5",
   "metadata": {},
   "outputs": [
    {
     "data": {
      "text/plain": [
       "0.2717123338108376"
      ]
     },
     "execution_count": 60,
     "metadata": {},
     "output_type": "execute_result"
    }
   ],
   "source": [
    "# How likely is it that it goes two dayswithout getting cleaned up? All week?\n",
    "\n",
    "two_days= stats.binom(daily_visits, 0.03).pmf(2)\n",
    "two_days"
   ]
  },
  {
   "cell_type": "code",
   "execution_count": 62,
   "id": "4f8b2f5b",
   "metadata": {},
   "outputs": [
    {
     "data": {
      "text/plain": [
       "17.023469250588246"
      ]
     },
     "execution_count": 62,
     "metadata": {},
     "output_type": "execute_result"
    }
   ],
   "source": [
    "# 6. You want to get lunch at La Panaderia, but notice that the line is usually very long at lunchtime. \n",
    "# After several weeks of careful observation, you notice that the average number of people in line when\n",
    "# your lunch break starts is normally distributed with a mean of 15 and standard deviation of 3. \n",
    "# If it takes 2 minutes for each person to order, and 10 minutes from ordering to getting your food, \n",
    "# what is the likelihood that you have at least 15 minutes left to eat your food before you have to go back to class?\n",
    "#Assume you have one hour for lunch, and ignore travel time to and from La Panaderia.\n",
    "\n",
    "number_of_people_mean = 15\n",
    "number_of_people_std = 3 \n",
    "# mean time= 15* 2\n",
    "lunch_time = stats.norm (number_of_people_mean, number_of_people_std).isf(15/60)\n",
    "lunch_time\n"
   ]
  },
  {
   "cell_type": "code",
   "execution_count": 107,
   "id": "a9cb81c2",
   "metadata": {},
   "outputs": [],
   "source": [
    "# 7. Connect to the employees database and find the average salary of current employees, along with the standard \n",
    "# deviation.For the following questions, calculate the answer based on modeling the employees salaries with a\n",
    "# normal distribution defined by the calculated mean and standard deviation then compare this answer to the \n",
    "# actual values present in the salaries dataset.\n",
    "\n",
    "import numpy as np\n",
    "import pandas as pd\n",
    "import matplotlib.pyplot as plt\n",
    "from pydataset import data\n",
    "from env import host, username, password\n",
    "\n",
    "def get_db_url(username,host,password,dbname):\n",
    "    url = f'mysql+pymsql://{username}:{password}@{host}/{dbname}'\n",
    "    return url\n",
    "url=get_db_url(username,host,password,'employees')\n",
    "\n",
    "\n"
   ]
  },
  {
   "cell_type": "code",
   "execution_count": null,
   "id": "7cfccb83",
   "metadata": {},
   "outputs": [],
   "source": [
    "# .What percent of employees earn less than 60,0\n",
    "\n",
    "sql=('SELECT emp_no,salary FROM salaries WHERE to_date > NOW')\n",
    "\n",
    "\n",
    "salaries = pd.read_sql(sql,url)"
   ]
  }
 ],
 "metadata": {
  "kernelspec": {
   "display_name": "Python 3 (ipykernel)",
   "language": "python",
   "name": "python3"
  },
  "language_info": {
   "codemirror_mode": {
    "name": "ipython",
    "version": 3
   },
   "file_extension": ".py",
   "mimetype": "text/x-python",
   "name": "python",
   "nbconvert_exporter": "python",
   "pygments_lexer": "ipython3",
   "version": "3.9.12"
  }
 },
 "nbformat": 4,
 "nbformat_minor": 5
}
