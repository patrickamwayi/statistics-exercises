{
 "cells": [
  {
   "cell_type": "code",
   "execution_count": 25,
   "id": "1bef160a",
   "metadata": {},
   "outputs": [],
   "source": [
    "                    #HYPOTHESIS TESTING\n",
    "\n",
    "# Exercises\n",
    "# Do your work for this exercise in a jupyter notebook named hypothesis_testing.ipynb.\n",
    "\n",
    "# For each of the following questions, formulate a null and alternative hypothesis (be as specific as you can be),\n",
    "# then give an example of what a true positive, true negative, type I and type II errors would look like.\n",
    "# Note that some of the questions are intentionally phrased in a vague way. It is your job to reword these\n",
    "# as more precise questions that could be tested.\n",
    "\n",
    "# . Has the network latency gone up since we switched internet service providers?\n",
    "\n",
    "Ho: Network latency did not go up after ISP was switched\n",
    "H1: Network latency went up after ISP was switched\n",
    "     \n",
    "True Positive: Network latency has gone up after switching to ISP and therefore we reject Ho\n",
    "True Negative: People did not spend more time on internet after ISP was switched therefore we accept Ho\n",
    "    \n",
    "False Positive (Type I Error): Reject Ho because people did not spend more time on internet\n",
    "False Negative (Type II Error): Failed to reject Ho after Newtworl latency went up\n"
   ]
  },
  {
   "cell_type": "code",
   "execution_count": null,
   "id": "c96c5380",
   "metadata": {},
   "outputs": [],
   "source": [
    "# . Is the website redesign any good?\n",
    "\n",
    "H0: There was no increased sales after website redesign\n",
    "H1: There has been increased sales due to website redesign\n",
    "\n",
    "True Positive: We reject Ho after sales increased when people spent more time on website\n",
    "True Negative: We failed to reject Ho because sales might not have necessarily been caused by website redesign\n",
    "    \n",
    "False Positive (Type I Error): We reject Ho because we assumed people spent more time on the internet\n",
    "False Negative (Type II Error): We failed to reject Ho because website redesign might not have affected sales "
   ]
  },
  {
   "cell_type": "code",
   "execution_count": null,
   "id": "4862a171",
   "metadata": {},
   "outputs": [],
   "source": [
    "# . Is our television ad driving more sales?\n",
    "\n",
    "Ho: Television ad did not increase more sales\n",
    "H1: Television ad has increased more sales\n",
    "    \n",
    "True Postive: We accept Ho because more sale were as a result of television ad\n",
    "True Negative: We failed to reject Ho because more sale might not have been caused by televion ad but other factors\n",
    "    \n",
    "False Positive (Type 1 Error): We accept Ho\n",
    "False Negative (Type II Error): We failed to reject Ho\n"
   ]
  }
 ],
 "metadata": {
  "kernelspec": {
   "display_name": "Python 3 (ipykernel)",
   "language": "python",
   "name": "python3"
  },
  "language_info": {
   "codemirror_mode": {
    "name": "ipython",
    "version": 3
   },
   "file_extension": ".py",
   "mimetype": "text/x-python",
   "name": "python",
   "nbconvert_exporter": "python",
   "pygments_lexer": "ipython3",
   "version": "3.9.12"
  }
 },
 "nbformat": 4,
 "nbformat_minor": 5
}
